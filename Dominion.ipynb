{
 "cells": [
  {
   "cell_type": "code",
   "execution_count": 1,
   "outputs": [],
   "source": [
    "import os\n",
    "import sys\n",
    "nb_dir = os.path.split(os.getcwd())[0]\n",
    "if nb_dir not in sys.path:\n",
    "    sys.path.append(nb_dir)\n",
    "\n",
    "from Game import *"
   ],
   "metadata": {
    "collapsed": false
   }
  },
  {
   "cell_type": "code",
   "execution_count": 5,
   "outputs": [
    {
     "name": "stderr",
     "output_type": "stream",
     "text": [
      "100%|██████████| 3000/3000 [06:28<00:00,  7.72it/s]\n"
     ]
    },
    {
     "name": "stdout",
     "output_type": "stream",
     "text": [
      "Turn 1\n",
      "Province 0   Duchy 0   Estate 0   Gold 0   Silver 274   Copper 0   Lab 0   Smithy 0   Village 0   NoCard 26   \n",
      "Turn 2\n",
      "Province 0   Duchy 0   Estate 0   Gold 0   Silver 149   Copper 23   Lab 0   Smithy 128   Village 0   NoCard 0   \n",
      "Turn 3\n",
      "Province 0   Duchy 0   Estate 0   Gold 63   Silver 227   Copper 0   Lab 0   Smithy 0   Village 0   NoCard 10   \n",
      "Turn 4\n",
      "Province 0   Duchy 0   Estate 0   Gold 83   Silver 43   Copper 0   Lab 0   Smithy 164   Village 0   NoCard 10   \n",
      "Turn 5\n",
      "Province 0   Duchy 0   Estate 0   Gold 134   Silver 74   Copper 0   Lab 87   Smithy 0   Village 0   NoCard 5   \n",
      "Turn 6\n",
      "Province 0   Duchy 0   Estate 0   Gold 173   Silver 58   Copper 0   Lab 67   Smithy 0   Village 0   NoCard 2   \n",
      "Turn 7\n",
      "Province 0   Duchy 0   Estate 0   Gold 194   Silver 19   Copper 0   Lab 0   Smithy 81   Village 0   NoCard 6   \n",
      "Turn 8\n",
      "Province 123   Duchy 0   Estate 0   Gold 95   Silver 33   Copper 0   Lab 48   Smithy 0   Village 0   NoCard 1   \n",
      "Turn 9\n",
      "Province 137   Duchy 0   Estate 0   Gold 91   Silver 33   Copper 0   Lab 36   Smithy 0   Village 0   NoCard 3   \n",
      "Turn 10\n",
      "Province 146   Duchy 0   Estate 0   Gold 89   Silver 65   Copper 0   Lab 0   Smithy 0   Village 0   NoCard 0   \n",
      "Turn 11\n",
      "Province 134   Duchy 0   Estate 0   Gold 96   Silver 70   Copper 0   Lab 0   Smithy 0   Village 0   NoCard 0   \n",
      "Turn 12\n",
      "Province 138   Duchy 0   Estate 2   Gold 96   Silver 64   Copper 0   Lab 0   Smithy 0   Village 0   NoCard 0   \n",
      "Turn 13\n",
      "Province 149   Duchy 0   Estate 0   Gold 83   Silver 0   Copper 18   Lab 0   Smithy 50   Village 0   NoCard 0   \n",
      "Turn 14\n",
      "Province 128   Duchy 0   Estate 0   Gold 0   Silver 170   Copper 0   Lab 0   Smithy 0   Village 0   NoCard 2   \n",
      "Turn 15\n",
      "Province 129   Duchy 0   Estate 0   Gold 0   Silver 0   Copper 171   Lab 0   Smithy 0   Village 0   NoCard 0   \n",
      "Turn 16\n",
      "Province 130   Duchy 127   Estate 0   Gold 0   Silver 0   Copper 43   Lab 0   Smithy 0   Village 0   NoCard 0   \n",
      "Turn 17\n",
      "Province 131   Duchy 0   Estate 0   Gold 0   Silver 0   Copper 0   Lab 0   Smithy 0   Village 0   NoCard 169   \n",
      "Turn 18\n",
      "Province 125   Duchy 120   Estate 55   Gold 0   Silver 0   Copper 0   Lab 0   Smithy 0   Village 0   NoCard 0   \n",
      "Turn 19\n",
      "Province 107   Duchy 124   Estate 0   Gold 0   Silver 0   Copper 69   Lab 0   Smithy 0   Village 0   NoCard 0   \n",
      "Turn 20\n",
      "Province 84   Duchy 149   Estate 0   Gold 0   Silver 0   Copper 0   Lab 0   Smithy 0   Village 0   NoCard 67   \n"
     ]
    }
   ],
   "source": [
    "t2 = MCRLTournament()\n",
    "t2.run_tournament(3000, 300)\n",
    "t2.print_buy_history()\n",
    "\n",
    "# pickle_safe(t2.player.strategy.q, 'qsave')\n",
    "# pickle_safe(t2.player.strategy.c, 'csave')"
   ],
   "metadata": {
    "collapsed": false
   }
  },
  {
   "cell_type": "code",
   "execution_count": 6,
   "outputs": [
    {
     "name": "stdout",
     "output_type": "stream",
     "text": [
      "[Province, Duchy, NoCard, Estate, Copper, Village, Silver, Smithy, Lab, Gold]\n"
     ]
    }
   ],
   "source": [
    "print(t2.player.strategy.prio_buys)"
   ],
   "metadata": {
    "collapsed": false
   }
  },
  {
   "cell_type": "code",
   "execution_count": 10,
   "outputs": [],
   "source": [
    "pickle_safe(t2.player.strategy.q, 'firstqsave')\n",
    "pickle_safe(t2.player.strategy.c, 'firstcsave')"
   ],
   "metadata": {
    "collapsed": false
   }
  },
  {
   "cell_type": "code",
   "execution_count": 2,
   "outputs": [],
   "source": [
    "loadedq = pickle_load('qsave')\n",
    "loadedc = pickle_load('csave')\n",
    "\n",
    "t3 = MCRLTournament(loadedq, loadedc)\n",
    "t3.last_epoch(100)"
   ],
   "metadata": {
    "collapsed": false
   }
  },
  {
   "cell_type": "code",
   "execution_count": 3,
   "outputs": [
    {
     "name": "stdout",
     "output_type": "stream",
     "text": [
      "[[0. 0. 0.]\n",
      " [0. 0. 4.]\n",
      " [0. 0. 0.]\n",
      " [0. 0. 0.]\n",
      " [0. 0. 0.]]\n"
     ]
    }
   ],
   "source": [
    "a = np.zeros((5,3))\n",
    "a[1,2] += 4\n",
    "print(a)"
   ],
   "metadata": {
    "collapsed": false
   }
  },
  {
   "cell_type": "code",
   "execution_count": 9,
   "outputs": [
    {
     "name": "stdout",
     "output_type": "stream",
     "text": [
      "{0: [0, 0, 0, 0, 0], 1: [0, 0, 0, 0, 0], 2: [0, 0, 0, 0, 0], 3: [0, 0, 0, 0, 0]}\n"
     ]
    }
   ],
   "source": [
    "# buy_at_turn = {}\n",
    "\n",
    "# for i in range(4):\n",
    "#     buy_at_turn[i] = [0] * 5\n",
    "\n",
    "buy_at_turn = {i:[0]*5 for i in range(4)}\n",
    "\n",
    "print(buy_at_turn)"
   ],
   "metadata": {
    "collapsed": false
   }
  },
  {
   "cell_type": "code",
   "execution_count": 3,
   "outputs": [
    {
     "name": "stdout",
     "output_type": "stream",
     "text": [
      "[-3, -2, -1, 0, 1, 2]\n"
     ]
    }
   ],
   "source": [
    "a = 3\n",
    "b = [i for i in range(-a,a)]\n",
    "print(b)"
   ],
   "metadata": {
    "collapsed": false
   }
  },
  {
   "cell_type": "code",
   "execution_count": null,
   "outputs": [],
   "source": [],
   "metadata": {
    "collapsed": false
   }
  }
 ],
 "metadata": {
  "kernelspec": {
   "display_name": "Python 3",
   "language": "python",
   "name": "python3"
  },
  "language_info": {
   "codemirror_mode": {
    "name": "ipython",
    "version": 2
   },
   "file_extension": ".py",
   "mimetype": "text/x-python",
   "name": "python",
   "nbconvert_exporter": "python",
   "pygments_lexer": "ipython2",
   "version": "2.7.6"
  }
 },
 "nbformat": 4,
 "nbformat_minor": 0
}
