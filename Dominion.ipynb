{
 "cells": [
  {
   "cell_type": "markdown",
   "source": [
    "Big Money: 33.776262 / 33.77592\n",
    "        33.772146 / 33.7734\n",
    "Smithy Bot: 30.23 / 30.23\n",
    "Smithy + VP: 43.02\n",
    "\n",
    "Static: 37.67 / 37.66\n",
    "Linear: 40.81 / 40.81 (100strats_2kep_30gps_1000gps_le)\n",
    "RL Turn: 44.41 / 43.77 / 43.78 (10k*10k)\n",
    "RL VAC: 44.07 / 44.07 (10k*10k)\n",
    "RL Avg_val 45.14 /  (10k*10k)\n",
    "           44.80 (20k*10k)\n",
    "RL rem_draws\n",
    "RL rem_draws+avg_val\n",
    "\n",
    "Custom: 45.38"
   ],
   "metadata": {
    "collapsed": false
   }
  },
  {
   "cell_type": "code",
   "execution_count": 6,
   "outputs": [],
   "source": [
    "import os\n",
    "import sys\n",
    "\n",
    "import numpy as np\n",
    "\n",
    "nb_dir = os.path.split(os.getcwd())[0]\n",
    "if nb_dir not in sys.path:\n",
    "    sys.path.append(nb_dir)\n",
    "\n",
    "from Game import *"
   ],
   "metadata": {
    "collapsed": false
   }
  },
  {
   "cell_type": "code",
   "execution_count": null,
   "outputs": [
    {
     "name": "stderr",
     "output_type": "stream",
     "text": [
      " 76%|███████▌  | 759/1000 [1:11:24<22:39,  5.64s/it]"
     ]
    }
   ],
   "source": [
    "t0 = MCRLTournament()\n",
    "t0.run_tournament(1_000, 10_000, 1_000_000)\n",
    "\n",
    "pickle_safe(dict(t0.player.strategy.q), 'q_avg_val_1kx10k')\n",
    "pickle_safe(dict(t0.player.strategy.c), 'c_avg_val_1kx10k')\n",
    "\n",
    "t0.print_buy_history()"
   ],
   "metadata": {
    "collapsed": false,
    "pycharm": {
     "is_executing": true
    }
   }
  },
  {
   "cell_type": "code",
   "execution_count": 3,
   "outputs": [
    {
     "name": "stderr",
     "output_type": "stream",
     "text": [
      "100%|██████████| 1000000/1000000 [08:30<00:00, 1959.92it/s]"
     ]
    },
    {
     "name": "stdout",
     "output_type": "stream",
     "text": [
      "Average vp: 43.775972\n",
      "Turn 1\n",
      "Province 0   Duchy 0   Estate 0   Gold 0   Silver 416404   Copper 0   Lab 0   Smithy 500475   Village 0   NoCard 83121   \n",
      "Turn 2\n",
      "Province 0   Duchy 0   Estate 0   Gold 0   Silver 916697   Copper 0   Lab 0   Smithy 0   Village 0   NoCard 83303   \n",
      "Turn 3\n",
      "Province 0   Duchy 0   Estate 0   Gold 224220   Silver 449722   Copper 0   Lab 296636   Smithy 0   Village 0   NoCard 29422   \n",
      "Turn 4\n",
      "Province 0   Duchy 0   Estate 0   Gold 263309   Silver 710139   Copper 26552   Lab 0   Smithy 0   Village 0   NoCard 0   \n",
      "Turn 5\n",
      "Province 0   Duchy 0   Estate 0   Gold 459702   Silver 72617   Copper 0   Lab 268674   Smithy 185993   Village 0   NoCard 13014   \n",
      "Turn 6\n",
      "Province 173243   Duchy 0   Estate 0   Gold 388704   Silver 57993   Copper 0   Lab 0   Smithy 370557   Village 0   NoCard 9503   \n",
      "Turn 7\n",
      "Province 0   Duchy 0   Estate 0   Gold 639263   Silver 165817   Copper 0   Lab 186330   Smithy 0   Village 0   NoCard 8590   \n",
      "Turn 8\n",
      "Province 375480   Duchy 0   Estate 0   Gold 355506   Silver 34786   Copper 0   Lab 142458   Smithy 85071   Village 0   NoCard 6699   \n",
      "Turn 9\n",
      "Province 437369   Duchy 0   Estate 0   Gold 332701   Silver 100624   Copper 0   Lab 122347   Smithy 0   Village 0   NoCard 6959   \n",
      "Turn 10\n",
      "Province 442731   Duchy 0   Estate 0   Gold 326809   Silver 101755   Copper 0   Lab 119969   Smithy 0   Village 0   NoCard 8736   \n",
      "Turn 11\n",
      "Province 446274   Duchy 0   Estate 0   Gold 321360   Silver 221475   Copper 0   Lab 0   Smithy 0   Village 0   NoCard 10891   \n",
      "Turn 12\n",
      "Province 447781   Duchy 0   Estate 0   Gold 0   Silver 539204   Copper 13015   Lab 0   Smithy 0   Village 0   NoCard 0   \n",
      "Turn 13\n",
      "Province 449396   Duchy 426076   Estate 0   Gold 0   Silver 0   Copper 124528   Lab 0   Smithy 0   Village 0   NoCard 0   \n",
      "Turn 14\n",
      "Province 427351   Duchy 435739   Estate 0   Gold 0   Silver 0   Copper 136910   Lab 0   Smithy 0   Village 0   NoCard 0   \n",
      "Turn 15\n",
      "Province 392798   Duchy 446290   Estate 0   Gold 0   Silver 0   Copper 0   Lab 0   Smithy 0   Village 0   NoCard 160912   \n",
      "Turn 16\n",
      "Province 344229   Duchy 456544   Estate 0   Gold 0   Silver 0   Copper 199227   Lab 0   Smithy 0   Village 0   NoCard 0   \n",
      "Turn 17\n",
      "Province 301384   Duchy 460225   Estate 226067   Gold 0   Silver 0   Copper 0   Lab 0   Smithy 0   Village 0   NoCard 12324   \n",
      "Turn 18\n",
      "Province 268486   Duchy 461168   Estate 0   Gold 0   Silver 0   Copper 0   Lab 0   Smithy 0   Village 0   NoCard 270346   \n",
      "Turn 19\n",
      "Province 240847   Duchy 455476   Estate 0   Gold 0   Silver 0   Copper 303677   Lab 0   Smithy 0   Village 0   NoCard 0   \n",
      "Turn 20\n",
      "Province 215978   Duchy 448423   Estate 0   Gold 0   Silver 0   Copper 0   Lab 0   Smithy 0   Village 0   NoCard 335599   \n"
     ]
    },
    {
     "name": "stderr",
     "output_type": "stream",
     "text": [
      "\n"
     ]
    }
   ],
   "source": [
    "loadedq = pickle_load('q_turn_10kx10k')\n",
    "loadedc = pickle_load('c_turn_10kx10k')\n",
    "\n",
    "t = MCRLTournament(loadedq, loadedc)\n",
    "t.last_episode(1_000_000)\n",
    "t.print_buy_history()"
   ],
   "metadata": {
    "collapsed": false
   }
  },
  {
   "cell_type": "code",
   "execution_count": 9,
   "outputs": [
    {
     "name": "stderr",
     "output_type": "stream",
     "text": [
      "100%|██████████| 1000000/1000000 [10:43<00:00, 1553.45it/s]"
     ]
    },
    {
     "name": "stdout",
     "output_type": "stream",
     "text": [
      "Average vp: 45.144619\n",
      "Turn 1\n",
      "Province 0   Duchy 0   Estate 0   Gold 0   Silver 416881   Copper 0   Lab 0   Smithy 500230   Village 0   NoCard 82889   \n",
      "Turn 2\n",
      "Province 0   Duchy 0   Estate 0   Gold 0   Silver 416965   Copper 0   Lab 0   Smithy 499770   Village 0   NoCard 83265   \n",
      "Turn 3\n",
      "Province 0   Duchy 0   Estate 0   Gold 257951   Silver 476799   Copper 0   Lab 235161   Smithy 0   Village 0   NoCard 30089   \n",
      "Turn 4\n",
      "Province 0   Duchy 0   Estate 0   Gold 339460   Silver 401638   Copper 0   Lab 235801   Smithy 0   Village 0   NoCard 23101   \n",
      "Turn 5\n",
      "Province 0   Duchy 0   Estate 0   Gold 504444   Silver 346629   Copper 0   Lab 122532   Smithy 15606   Village 0   NoCard 10789   \n",
      "Turn 6\n",
      "Province 23151   Duchy 0   Estate 0   Gold 594667   Silver 178927   Copper 386   Lab 62208   Smithy 132621   Village 0   NoCard 8040   \n",
      "Turn 7\n",
      "Province 74906   Duchy 0   Estate 0   Gold 616443   Silver 103162   Copper 0   Lab 92137   Smithy 106428   Village 0   NoCard 6924   \n",
      "Turn 8\n",
      "Province 211422   Duchy 0   Estate 0   Gold 565011   Silver 56083   Copper 0   Lab 23389   Smithy 138558   Village 0   NoCard 5537   \n",
      "Turn 9\n",
      "Province 456072   Duchy 0   Estate 0   Gold 353534   Silver 62647   Copper 0   Lab 40616   Smithy 82704   Village 0   NoCard 4427   \n",
      "Turn 10\n",
      "Province 532221   Duchy 1059   Estate 0   Gold 224685   Silver 72991   Copper 2418   Lab 46361   Smithy 91904   Village 0   NoCard 28361   \n",
      "Turn 11\n",
      "Province 517794   Duchy 0   Estate 0   Gold 264284   Silver 157775   Copper 2504   Lab 5460   Smithy 44767   Village 1767   NoCard 5649   \n",
      "Turn 12\n",
      "Province 506986   Duchy 175097   Estate 19904   Gold 154715   Silver 73054   Copper 5   Lab 0   Smithy 63297   Village 1245   NoCard 5697   \n",
      "Turn 13\n",
      "Province 488569   Duchy 375547   Estate 60145   Gold 14427   Silver 13566   Copper 43019   Lab 0   Smithy 0   Village 1   NoCard 4726   \n",
      "Turn 14\n",
      "Province 456756   Duchy 406681   Estate 14689   Gold 2788   Silver 3063   Copper 63234   Lab 0   Smithy 0   Village 0   NoCard 52789   \n",
      "Turn 15\n",
      "Province 419662   Duchy 414769   Estate 70928   Gold 0   Silver 9070   Copper 84175   Lab 1   Smithy 0   Village 0   NoCard 1395   \n",
      "Turn 16\n",
      "Province 368324   Duchy 431511   Estate 110983   Gold 116   Silver 0   Copper 64945   Lab 0   Smithy 0   Village 0   NoCard 24121   \n",
      "Turn 17\n",
      "Province 319587   Duchy 441027   Estate 61022   Gold 0   Silver 0   Copper 165815   Lab 0   Smithy 0   Village 0   NoCard 12549   \n",
      "Turn 18\n",
      "Province 290315   Duchy 443408   Estate 15   Gold 0   Silver 9   Copper 265307   Lab 0   Smithy 0   Village 0   NoCard 946   \n",
      "Turn 19\n",
      "Province 259924   Duchy 440917   Estate 705   Gold 0   Silver 0   Copper 232003   Lab 0   Smithy 0   Village 0   NoCard 66451   \n",
      "Turn 20\n",
      "Province 232779   Duchy 434587   Estate 161611   Gold 0   Silver 0   Copper 76   Lab 0   Smithy 0   Village 0   NoCard 170947   \n",
      "[5.158468e+00 3.564603e+00 5.000020e-01 3.892525e+00 2.789259e+00\n",
      " 9.238870e-01 8.636660e-01 1.675885e+00 3.013000e-03 6.286920e-01]\n"
     ]
    },
    {
     "name": "stderr",
     "output_type": "stream",
     "text": [
      "\n"
     ]
    }
   ],
   "source": [
    "loadedq = pickle_load('q_avg_val_10kx10k')\n",
    "loadedc = pickle_load('c_avg_val_10kx10k')\n",
    "\n",
    "t2 = MCRLTournament(loadedq, loadedc)\n",
    "t2.last_episode(1_000_000)\n",
    "t2.print_buy_history()"
   ],
   "metadata": {
    "collapsed": false
   }
  },
  {
   "cell_type": "code",
   "execution_count": 2,
   "outputs": [
    {
     "name": "stderr",
     "output_type": "stream",
     "text": [
      "100%|██████████| 1000000/1000000 [09:21<00:00, 1781.33it/s]"
     ]
    },
    {
     "name": "stdout",
     "output_type": "stream",
     "text": [
      "Average vp: 44.073426\n",
      "Turn 1\n",
      "Province 0   Duchy 0   Estate 0   Gold 0   Silver 916311   Copper 0   Lab 0   Smithy 0   Village 0   NoCard 83689   \n",
      "Turn 2\n",
      "Province 0   Duchy 0   Estate 0   Gold 0   Silver 416057   Copper 0   Lab 0   Smithy 501220   Village 0   NoCard 82723   \n",
      "Turn 3\n",
      "Province 0   Duchy 0   Estate 0   Gold 217483   Silver 527891   Copper 0   Lab 0   Smithy 225068   Village 0   NoCard 29558   \n",
      "Turn 4\n",
      "Province 3352   Duchy 0   Estate 0   Gold 163477   Silver 499046   Copper 3798   Lab 0   Smithy 307465   Village 0   NoCard 22862   \n",
      "Turn 5\n",
      "Province 0   Duchy 0   Estate 0   Gold 464531   Silver 310949   Copper 1323   Lab 56957   Smithy 138805   Village 0   NoCard 27435   \n",
      "Turn 6\n",
      "Province 14712   Duchy 0   Estate 0   Gold 558703   Silver 177797   Copper 2082   Lab 38229   Smithy 201282   Village 0   NoCard 7195   \n",
      "Turn 7\n",
      "Province 108791   Duchy 0   Estate 0   Gold 539630   Silver 155138   Copper 1247   Lab 8965   Smithy 162394   Village 0   NoCard 23835   \n",
      "Turn 8\n",
      "Province 373449   Duchy 0   Estate 0   Gold 361333   Silver 66399   Copper 1430   Lab 51181   Smithy 101313   Village 0   NoCard 44895   \n",
      "Turn 9\n",
      "Province 438600   Duchy 0   Estate 0   Gold 342103   Silver 50345   Copper 136   Lab 12669   Smithy 55239   Village 0   NoCard 100908   \n",
      "Turn 10\n",
      "Province 451862   Duchy 107   Estate 0   Gold 274156   Silver 32576   Copper 177   Lab 28307   Smithy 104189   Village 202   NoCard 108424   \n",
      "Turn 11\n",
      "Province 449043   Duchy 500   Estate 0   Gold 274664   Silver 67167   Copper 2192   Lab 17742   Smithy 85977   Village 12   NoCard 102703   \n",
      "Turn 12\n",
      "Province 446569   Duchy 82118   Estate 2   Gold 177854   Silver 70102   Copper 1310   Lab 64   Smithy 40301   Village 1357   NoCard 180323   \n",
      "Turn 13\n",
      "Province 445577   Duchy 342242   Estate 3   Gold 33223   Silver 19905   Copper 25156   Lab 113   Smithy 38735   Village 1870   NoCard 93176   \n",
      "Turn 14\n",
      "Province 431017   Duchy 413547   Estate 89   Gold 1323   Silver 10788   Copper 98429   Lab 53   Smithy 8896   Village 540   NoCard 35318   \n",
      "Turn 15\n",
      "Province 398952   Duchy 399715   Estate 82   Gold 5   Silver 20   Copper 100724   Lab 289   Smithy 3384   Village 667   NoCard 96162   \n",
      "Turn 16\n",
      "Province 349331   Duchy 433821   Estate 320   Gold 0   Silver 2   Copper 75146   Lab 1   Smithy 89   Village 1387   NoCard 139903   \n",
      "Turn 17\n",
      "Province 308830   Duchy 450316   Estate 9332   Gold 0   Silver 0   Copper 56296   Lab 0   Smithy 367   Village 148   NoCard 174711   \n",
      "Turn 18\n",
      "Province 281923   Duchy 454273   Estate 233746   Gold 0   Silver 0   Copper 25495   Lab 13   Smithy 1   Village 31   NoCard 4518   \n",
      "Turn 19\n",
      "Province 251608   Duchy 451109   Estate 270283   Gold 0   Silver 0   Copper 12377   Lab 11   Smithy 1   Village 2   NoCard 14609   \n",
      "Turn 20\n",
      "Province 219553   Duchy 443508   Estate 306787   Gold 2   Silver 0   Copper 9115   Lab 0   Smithy 0   Village 1   NoCard 21034   \n"
     ]
    },
    {
     "name": "stderr",
     "output_type": "stream",
     "text": [
      "\n"
     ]
    }
   ],
   "source": [
    "loadedq = pickle_load('q_vac_10kx10k')\n",
    "loadedc = pickle_load('c_vac_10kx10k')\n",
    "\n",
    "t9 = MCRLTournament(loadedq, loadedc)\n",
    "t9.last_episode(1_000_000)\n",
    "t9.print_buy_history()"
   ],
   "metadata": {
    "collapsed": false
   }
  },
  {
   "cell_type": "markdown",
   "source": [
    "# GA Turnier"
   ],
   "metadata": {
    "collapsed": false
   }
  },
  {
   "cell_type": "code",
   "execution_count": 3,
   "outputs": [
    {
     "name": "stderr",
     "output_type": "stream",
     "text": [
      "100%|██████████| 1000/1000 [09:53<00:00,  1.69it/s]\n",
      "100%|██████████| 1000/1000 [18:54<00:00,  1.13s/it]\n",
      "100%|██████████| 1000/1000 [27:42<00:00,  1.66s/it]\n",
      "100%|██████████| 1000000/1000000 [06:01<00:00, 2762.64it/s]\n",
      "100%|██████████| 1000000/1000000 [06:09<00:00, 2705.85it/s]\n",
      "100%|██████████| 1000000/1000000 [06:34<00:00, 2533.49it/s]\n",
      "100%|██████████| 1000000/1000000 [07:05<00:00, 2352.18it/s]\n",
      "100%|██████████| 1000000/1000000 [06:16<00:00, 2653.26it/s]"
     ]
    },
    {
     "name": "stdout",
     "output_type": "stream",
     "text": [
      "Best strat on avg: 37.662468\n",
      "[[Province, Gold, Lab, Smithy, Silver, Village, NoCard, Duchy, Estate, Copper], [Province, Gold, Lab, Smithy, Silver, Village, NoCard, Duchy, Estate, Copper], [Province, Gold, Lab, Smithy, Silver, Village, NoCard, Duchy, Estate, Copper], [Province, Gold, Lab, Smithy, Silver, Village, NoCard, Duchy, Estate, Copper], [Province, Gold, Lab, Smithy, Silver, Village, NoCard, Duchy, Estate, Copper], [Province, Gold, Lab, Smithy, Silver, Village, NoCard, Duchy, Estate, Copper], [Province, Gold, Lab, Smithy, Silver, Village, NoCard, Duchy, Estate, Copper], [Province, Gold, Lab, Smithy, Silver, Village, NoCard, Duchy, Estate, Copper], [Province, Gold, Lab, Smithy, Silver, Village, NoCard, Duchy, Estate, Copper], [Province, Gold, Lab, Smithy, Silver, Village, NoCard, Duchy, Estate, Copper], [Province, Gold, Lab, Smithy, Silver, Village, NoCard, Duchy, Estate, Copper], [Province, Gold, Lab, Smithy, Silver, Village, NoCard, Duchy, Estate, Copper], [Province, Gold, Lab, Smithy, Silver, Village, NoCard, Duchy, Estate, Copper], [Province, Gold, Lab, Smithy, Silver, Village, NoCard, Duchy, Estate, Copper], [Province, Gold, Lab, Smithy, Silver, Village, NoCard, Duchy, Estate, Copper], [Province, Gold, Lab, Smithy, Silver, Village, NoCard, Duchy, Estate, Copper], [Province, Gold, Lab, Smithy, Silver, Village, NoCard, Duchy, Estate, Copper], [Province, Gold, Lab, Smithy, Silver, Village, NoCard, Duchy, Estate, Copper], [Province, Gold, Lab, Smithy, Silver, Village, NoCard, Duchy, Estate, Copper], [Province, Gold, Lab, Smithy, Silver, Village, NoCard, Duchy, Estate, Copper]]\n"
     ]
    },
    {
     "name": "stderr",
     "output_type": "stream",
     "text": [
      "\n"
     ]
    }
   ],
   "source": [
    "t = GATournament(StaticGA, all_strats=100)\n",
    "t.run_tournament(3_000,15,1_000_000)\n",
    "\n",
    "pickle_safe(t.all_strategies[0].weights, 'Static_100strats_3kep_15gps')\n",
    "print(t.all_strategies[0].prio_buys)"
   ],
   "metadata": {
    "collapsed": false
   }
  },
  {
   "cell_type": "code",
   "execution_count": null,
   "outputs": [],
   "source": [
    "print(t.all_strategies[0].prio_buys)"
   ],
   "metadata": {
    "collapsed": false
   }
  },
  {
   "cell_type": "code",
   "execution_count": null,
   "outputs": [],
   "source": [
    "ws = pickle_load('Lin_100strats_10kep_15gps_PLUS_10kep_20gps_ag')\n",
    "t5 = GATournament(LinearGA, all_strats=100, weights=ws)\n",
    "t5.vp_one_strat(1_000_000)\n",
    "print(t5.all_strategies[0].prio_buys)\n",
    "\n",
    "# pickle_safe(t.all_strategies[0].weights, 'Lin_100strats_10kep_15gps_PLUS_10kep_20gps_ag')\n",
    "t5.print_buy_history()"
   ],
   "metadata": {
    "collapsed": false
   }
  },
  {
   "cell_type": "code",
   "execution_count": null,
   "outputs": [],
   "source": [
    "pickle_safe(t5.all_strategies[0].weights, 'Lin_100strats_10kep_15gps_PLUS_10kep_20gps_ag')"
   ],
   "metadata": {
    "collapsed": false
   }
  },
  {
   "cell_type": "code",
   "execution_count": null,
   "outputs": [],
   "source": [
    "t6 = GATournament(StaticGA, all_strats=100)\n",
    "t6.run_tournament(epochs=3000,gps=15,gps_last_epoch=1_00)"
   ],
   "metadata": {
    "collapsed": false
   }
  },
  {
   "cell_type": "code",
   "execution_count": null,
   "outputs": [],
   "source": [
    "t6.last_epoch(1_000_000)"
   ],
   "metadata": {
    "collapsed": false
   }
  },
  {
   "cell_type": "code",
   "execution_count": 2,
   "outputs": [
    {
     "name": "stderr",
     "output_type": "stream",
     "text": [
      "100%|██████████| 1000000/1000000 [05:11<00:00, 3212.23it/s]"
     ]
    },
    {
     "name": "stdout",
     "output_type": "stream",
     "text": [
      "Avg: 43.020726\n",
      "Turn 1\n",
      "Province 0   Duchy 0   Estate 0   Gold 0   Silver 416526   Copper 0   Lab 0   Smithy 500487   Village 0   NoCard 0   \n",
      "Turn 2\n",
      "Province 0   Duchy 0   Estate 0   Gold 0   Silver 416915   Copper 0   Lab 0   Smithy 499513   Village 0   NoCard 0   \n",
      "Turn 3\n",
      "Province 7346   Duchy 0   Estate 0   Gold 251587   Silver 155409   Copper 0   Lab 0   Smithy 555822   Village 0   NoCard 0   \n",
      "Turn 4\n",
      "Province 26361   Duchy 0   Estate 0   Gold 277676   Silver 129514   Copper 0   Lab 0   Smithy 542089   Village 0   NoCard 0   \n",
      "Turn 5\n",
      "Province 154223   Duchy 0   Estate 0   Gold 266524   Silver 92428   Copper 0   Lab 0   Smithy 473605   Village 0   NoCard 0   \n",
      "Turn 6\n",
      "Province 160537   Duchy 0   Estate 0   Gold 295145   Silver 103608   Copper 0   Lab 0   Smithy 422810   Village 0   NoCard 0   \n",
      "Turn 7\n",
      "Province 179666   Duchy 0   Estate 0   Gold 305627   Silver 493208   Copper 0   Lab 0   Smithy 0   Village 0   NoCard 21499   \n",
      "Turn 8\n",
      "Province 247279   Duchy 0   Estate 0   Gold 280714   Silver 454030   Copper 0   Lab 0   Smithy 0   Village 0   NoCard 17977   \n",
      "Turn 9\n",
      "Province 278010   Duchy 0   Estate 0   Gold 354372   Silver 350418   Copper 0   Lab 0   Smithy 0   Village 0   NoCard 17200   \n",
      "Turn 10\n",
      "Province 307358   Duchy 0   Estate 0   Gold 353169   Silver 321928   Copper 0   Lab 0   Smithy 0   Village 0   NoCard 17545   \n",
      "Turn 11\n",
      "Province 346163   Duchy 0   Estate 0   Gold 343137   Silver 292900   Copper 0   Lab 0   Smithy 0   Village 0   NoCard 17800   \n",
      "Turn 12\n",
      "Province 380601   Duchy 0   Estate 0   Gold 334648   Silver 267856   Copper 0   Lab 0   Smithy 0   Village 0   NoCard 16895   \n",
      "Turn 13\n",
      "Province 407259   Duchy 0   Estate 0   Gold 322423   Silver 252550   Copper 0   Lab 0   Smithy 0   Village 0   NoCard 17768   \n",
      "Turn 14\n",
      "Province 420863   Duchy 442575   Estate 0   Gold 0   Silver 118740   Copper 0   Lab 0   Smithy 0   Village 0   NoCard 17822   \n",
      "Turn 15\n",
      "Province 418996   Duchy 438734   Estate 0   Gold 0   Silver 121797   Copper 0   Lab 0   Smithy 0   Village 0   NoCard 20473   \n",
      "Turn 16\n",
      "Province 393141   Duchy 441338   Estate 0   Gold 0   Silver 138085   Copper 0   Lab 0   Smithy 0   Village 0   NoCard 27436   \n",
      "Turn 17\n",
      "Province 355593   Duchy 450545   Estate 185067   Gold 0   Silver 0   Copper 0   Lab 0   Smithy 0   Village 0   NoCard 8795   \n",
      "Turn 18\n",
      "Province 326853   Duchy 453429   Estate 208207   Gold 0   Silver 0   Copper 0   Lab 0   Smithy 0   Village 0   NoCard 11511   \n",
      "Turn 19\n",
      "Province 289680   Duchy 456464   Estate 237160   Gold 0   Silver 0   Copper 0   Lab 0   Smithy 0   Village 0   NoCard 16696   \n",
      "Turn 20\n",
      "Province 253077   Duchy 450149   Estate 272554   Gold 0   Silver 0   Copper 0   Lab 0   Smithy 0   Village 0   NoCard 24220   \n"
     ]
    },
    {
     "name": "stderr",
     "output_type": "stream",
     "text": [
      "\n"
     ]
    }
   ],
   "source": [
    "tc = CustomTournament()\n",
    "tc.last_episode(1_000_000)\n",
    "tc.print_buy_history()"
   ],
   "metadata": {
    "collapsed": false
   }
  },
  {
   "cell_type": "code",
   "execution_count": null,
   "outputs": [],
   "source": [],
   "metadata": {
    "collapsed": false
   }
  }
 ],
 "metadata": {
  "kernelspec": {
   "display_name": "Python 3",
   "language": "python",
   "name": "python3"
  },
  "language_info": {
   "codemirror_mode": {
    "name": "ipython",
    "version": 2
   },
   "file_extension": ".py",
   "mimetype": "text/x-python",
   "name": "python",
   "nbconvert_exporter": "python",
   "pygments_lexer": "ipython2",
   "version": "2.7.6"
  }
 },
 "nbformat": 4,
 "nbformat_minor": 0
}
