{
 "cells": [
  {
   "cell_type": "markdown",
   "source": [
    "Big Money: 33.776262 / 33.77592\n",
    "    33.772146 / 33.7734\n",
    "\n",
    "Static: 37.67\n",
    "Linear: 40.81 (100strats_2kep_30gps_1000gps_le)\n",
    "RL Turn: 44.41 (10k*10k)\n",
    "RL VAC: 44.07 (10k*10k)\n",
    "RL Avg_val 45.14 (10k*10k)\n",
    "           44.80 (20k*10k)\n",
    "\n",
    "Custom: 45.38"
   ],
   "metadata": {
    "collapsed": false
   }
  },
  {
   "cell_type": "code",
   "execution_count": 1,
   "outputs": [],
   "source": [
    "import os\n",
    "import sys\n",
    "nb_dir = os.path.split(os.getcwd())[0]\n",
    "if nb_dir not in sys.path:\n",
    "    sys.path.append(nb_dir)\n",
    "\n",
    "from Game import *"
   ],
   "metadata": {
    "collapsed": false
   }
  },
  {
   "cell_type": "code",
   "execution_count": 2,
   "outputs": [
    {
     "name": "stderr",
     "output_type": "stream",
     "text": [
      "100%|██████████| 10000/10000 [11:19:02<00:00,  4.07s/it] \n",
      "100%|██████████| 1000000/1000000 [07:11<00:00, 2317.27it/s]"
     ]
    },
    {
     "name": "stdout",
     "output_type": "stream",
     "text": [
      "Average vp: 42.365616\n"
     ]
    },
    {
     "name": "stderr",
     "output_type": "stream",
     "text": [
      "\n"
     ]
    }
   ],
   "source": [
    "t2 = MCRLTournament()\n",
    "t2.run_tournament(10_000, 10_000, 1_000_000)\n",
    "\n",
    "pickle_safe(dict(t2.player.strategy.q), 'q_rem_draws_10kx10k')\n",
    "pickle_safe(dict(t2.player.strategy.c), 'c_rem_draws_10kx10k')"
   ],
   "metadata": {
    "collapsed": false
   }
  },
  {
   "cell_type": "code",
   "execution_count": 3,
   "outputs": [
    {
     "name": "stdout",
     "output_type": "stream",
     "text": [
      "Turn 1\n",
      "Province 0   Duchy 0   Estate 0   Gold 0   Silver 916732   Copper 0   Lab 0   Smithy 0   Village 0   NoCard 83268   \n",
      "Turn 2\n",
      "Province 0   Duchy 0   Estate 0   Gold 0   Silver 916928   Copper 0   Lab 0   Smithy 0   Village 0   NoCard 83072   \n",
      "Turn 3\n",
      "Province 0   Duchy 0   Estate 0   Gold 190199   Silver 780152   Copper 0   Lab 0   Smithy 0   Village 0   NoCard 29649   \n",
      "Turn 4\n",
      "Province 0   Duchy 0   Estate 0   Gold 189413   Silver 780829   Copper 0   Lab 0   Smithy 0   Village 0   NoCard 29758   \n",
      "Turn 5\n",
      "Province 37134   Duchy 0   Estate 0   Gold 361666   Silver 585959   Copper 0   Lab 0   Smithy 0   Village 0   NoCard 15241   \n",
      "Turn 6\n",
      "Province 91172   Duchy 0   Estate 0   Gold 412500   Silver 486210   Copper 0   Lab 0   Smithy 0   Village 0   NoCard 10118   \n",
      "Turn 7\n",
      "Province 127874   Duchy 0   Estate 0   Gold 431026   Silver 430210   Copper 0   Lab 0   Smithy 0   Village 0   NoCard 10890   \n",
      "Turn 8\n",
      "Province 245246   Duchy 0   Estate 0   Gold 433730   Silver 315059   Copper 0   Lab 0   Smithy 0   Village 0   NoCard 5965   \n",
      "Turn 9\n",
      "Province 246516   Duchy 0   Estate 0   Gold 433866   Silver 306668   Copper 0   Lab 0   Smithy 7039   Village 0   NoCard 5911   \n",
      "Turn 10\n",
      "Province 341702   Duchy 0   Estate 0   Gold 391980   Silver 32525   Copper 8612   Lab 0   Smithy 224998   Village 0   NoCard 183   \n",
      "Turn 11\n",
      "Province 354356   Duchy 0   Estate 0   Gold 390549   Silver 29709   Copper 7454   Lab 0   Smithy 217739   Village 0   NoCard 193   \n",
      "Turn 12\n",
      "Province 356123   Duchy 9984   Estate 0   Gold 381898   Silver 31392   Copper 7677   Lab 0   Smithy 212626   Village 0   NoCard 300   \n",
      "Turn 13\n",
      "Province 387344   Duchy 493030   Estate 0   Gold 134   Silver 108681   Copper 10   Lab 0   Smithy 126   Village 0   NoCard 10675   \n",
      "Turn 14\n",
      "Province 463742   Duchy 434438   Estate 0   Gold 172   Silver 91637   Copper 15   Lab 0   Smithy 159   Village 0   NoCard 9837   \n",
      "Turn 15\n",
      "Province 461867   Duchy 435039   Estate 0   Gold 0   Silver 89913   Copper 0   Lab 0   Smithy 0   Village 0   NoCard 13181   \n",
      "Turn 16\n",
      "Province 451188   Duchy 433571   Estate 0   Gold 0   Silver 44262   Copper 61230   Lab 0   Smithy 0   Village 0   NoCard 9749   \n",
      "Turn 17\n",
      "Province 324490   Duchy 471026   Estate 0   Gold 0   Silver 10   Copper 183738   Lab 0   Smithy 0   Village 0   NoCard 20736   \n",
      "Turn 18\n",
      "Province 277011   Duchy 484884   Estate 0   Gold 0   Silver 0   Copper 231611   Lab 0   Smithy 0   Village 0   NoCard 6494   \n",
      "Turn 19\n",
      "Province 274829   Duchy 483937   Estate 0   Gold 0   Silver 0   Copper 241234   Lab 0   Smithy 0   Village 0   NoCard 0   \n",
      "Turn 20\n",
      "Province 260985   Duchy 472805   Estate 0   Gold 0   Silver 0   Copper 266210   Lab 0   Smithy 0   Village 0   NoCard 0   \n"
     ]
    }
   ],
   "source": [
    "# print(t2.player.strategy.prio_buys)\n",
    "t2.print_buy_history()"
   ],
   "metadata": {
    "collapsed": false
   }
  },
  {
   "cell_type": "code",
   "execution_count": 4,
   "outputs": [
    {
     "name": "stderr",
     "output_type": "stream",
     "text": [
      "100%|██████████| 7000/7000 [7:49:06<00:00,  4.02s/it]  \n",
      "100%|██████████| 1000000/1000000 [06:46<00:00, 2460.71it/s]"
     ]
    },
    {
     "name": "stdout",
     "output_type": "stream",
     "text": [
      "Average vp: 42.364242\n"
     ]
    },
    {
     "name": "stderr",
     "output_type": "stream",
     "text": [
      "\n"
     ]
    }
   ],
   "source": [
    "loadedq = pickle_load('q_rem_draws_10kx10k')\n",
    "loadedc = pickle_load('c_rem_draws_10kx10k')\n",
    "\n",
    "t3 = MCRLTournament(loadedq, loadedc)\n",
    "t3.run_tournament(7_000, 10_000, 1_000_000)\n",
    "\n",
    "pickle_safe(dict(t3.player.strategy.q), 'q_rem_draws_17kx10k')\n",
    "pickle_safe(dict(t3.player.strategy.c), 'c_rem_draws_17kx10k')"
   ],
   "metadata": {
    "collapsed": false
   }
  },
  {
   "cell_type": "code",
   "execution_count": 7,
   "outputs": [
    {
     "name": "stdout",
     "output_type": "stream",
     "text": [
      "{3.5: [39.32322079217761, 35.67348895973733, 33.501598969837545, 38.926423206056285, 37.737540560099966, 35.10674432166677, 37.54039192465365, 37.73753061010839, 35.52957574973731, 35.825076994304524], 3.0: [37.64593223442739, 34.17019433673829, 32.18665071055825, 35.922182997613774, 34.64140060176861, 32.82610332094102, 34.636517301772756, 34.96078966147793, 33.07203331685184, 33.29262053028553], 2.0: [39.87014491108009, 37.21998704304862, 35.42141645587331, 38.04148963195458, 37.761040054426175, 36.3547779426383, 37.03434263820485, 38.04148951940391, 35.92969685622649, 36.02000921905927], 1.0: [39.11113226341332, 37.659342810331005, 35.38861440495455, 35.821151570565746, 37.37057546182393, 35.15806120604693, 35.53691843330727, 36.01984995234861, 35.16508574219058, 36.62444056614968], 0: [39.465097362021, 38.23065362511508, 36.46478566958706, 34.47599415769003, 35.368592814440106, 36.89751333572966, 34.76788362442293, 35.110533818716036, 35.30759529468014, 35.66902576946415], 1.5: [38.00273894220776, 35.737764248820476, 33.70918192600068, 35.44440088019339, 35.68823495603967, 33.822008574951134, 34.61293496122403, 34.862898842650594, 33.89236966484663, 34.84214474071321], 0.5: [38.043415843726194, 36.56625530209561, 34.870042048689285, 33.83019945970702, 34.38413949286838, 34.35093310812074, 33.781877043020565, 34.157784815525204, 34.04803247860227, 35.55477069296108], 2.5: [38.442914193411006, 35.655740058250714, 33.82188363337701, 36.73690262013377, 36.18847216644487, 34.69867843170248, 35.58008690733563, 36.50518473998529, 34.41157071509432, 34.49883284623894]}\n"
     ]
    }
   ],
   "source": [
    "# t3.print_buy_history()\n",
    "print(loadedq)"
   ],
   "metadata": {
    "collapsed": false
   }
  },
  {
   "cell_type": "markdown",
   "source": [
    "# GA Turnier"
   ],
   "metadata": {
    "collapsed": false
   }
  },
  {
   "cell_type": "code",
   "execution_count": 5,
   "outputs": [
    {
     "name": "stderr",
     "output_type": "stream",
     "text": [
      "100%|██████████| 10000/10000 [1:11:44<00:00,  2.32it/s]\n"
     ]
    },
    {
     "name": "stdout",
     "output_type": "stream",
     "text": [
      "Best strat on avg: 40.866\n"
     ]
    }
   ],
   "source": [
    "t = GATournament(LinearGA, all_strats=100)\n",
    "t.run_tournament(10_000,15,1_000)\n",
    "\n",
    "pickle_safe(t.all_strategies[0].weights, 'Lin_100strats_5kep_30gps_1000gps_le')\n",
    "# t.print_buy_history(5)"
   ],
   "metadata": {
    "collapsed": false
   }
  },
  {
   "cell_type": "code",
   "execution_count": 6,
   "outputs": [
    {
     "name": "stdout",
     "output_type": "stream",
     "text": [
      "[[Gold, Smithy, Duchy, Silver, Copper, NoCard, Village, Province, Estate, Lab], [Gold, Smithy, Silver, NoCard, Village, Province, Estate, Lab, Duchy, Copper], [Gold, Silver, Smithy, Village, NoCard, Province, Estate, Lab, Duchy, Copper], [Gold, Silver, Village, Province, Smithy, NoCard, Estate, Lab, Duchy, Copper], [Gold, Silver, Province, Village, Smithy, NoCard, Estate, Lab, Duchy, Copper], [Gold, Silver, Province, Village, Smithy, NoCard, Estate, Lab, Duchy, Copper], [Gold, Province, Silver, Village, Smithy, NoCard, Estate, Lab, Duchy, Copper], [Province, Gold, Silver, Village, Smithy, NoCard, Estate, Lab, Duchy, Copper], [Province, Gold, Silver, Village, Estate, Smithy, NoCard, Lab, Duchy, Copper], [Province, Gold, Silver, Village, Estate, Smithy, Lab, NoCard, Duchy, Copper], [Province, Gold, Silver, Village, Estate, Lab, Smithy, NoCard, Duchy, Copper], [Province, Gold, Silver, Village, Estate, Lab, Smithy, NoCard, Duchy, Copper], [Province, Gold, Silver, Estate, Village, Lab, Smithy, NoCard, Duchy, Copper], [Province, Gold, Silver, Estate, Village, Lab, Smithy, NoCard, Duchy, Copper], [Province, Gold, Estate, Silver, Village, Lab, Smithy, NoCard, Duchy, Copper], [Province, Estate, Gold, Silver, Lab, Village, Smithy, NoCard, Duchy, Copper], [Province, Estate, Gold, Silver, Lab, Village, Smithy, NoCard, Duchy, Copper], [Province, Estate, Gold, Silver, Lab, Village, Smithy, NoCard, Duchy, Copper], [Province, Estate, Gold, Lab, Silver, Village, Smithy, NoCard, Duchy, Copper], [Province, Estate, Lab, Gold, Silver, Village, Smithy, NoCard, Duchy, Copper]]\n"
     ]
    }
   ],
   "source": [
    "print(t.all_strategies[0].prio_buys)"
   ],
   "metadata": {
    "collapsed": false
   }
  },
  {
   "cell_type": "code",
   "execution_count": 2,
   "outputs": [
    {
     "name": "stderr",
     "output_type": "stream",
     "text": [
      "100%|██████████| 3333/3333 [34:28<00:00,  1.61it/s] \n",
      "100%|██████████| 3333/3333 [1:07:23<00:00,  1.21s/it]\n",
      "100%|██████████| 3333/3333 [1:50:33<00:00,  1.99s/it]\n",
      "100%|██████████| 1000000/1000000 [05:07<00:00, 3255.75it/s]\n",
      "100%|██████████| 1000000/1000000 [05:11<00:00, 3213.92it/s]\n",
      "100%|██████████| 1000000/1000000 [05:05<00:00, 3273.85it/s]\n",
      "100%|██████████| 1000000/1000000 [05:00<00:00, 3324.85it/s]\n",
      "100%|██████████| 1000000/1000000 [05:04<00:00, 3284.93it/s]\n"
     ]
    },
    {
     "name": "stdout",
     "output_type": "stream",
     "text": [
      "Best strat on avg: 40.807947\n",
      "[[Gold, Smithy, Duchy, Silver, NoCard, Copper, Village, Province, Lab, Estate], [Gold, Smithy, Silver, Village, NoCard, Province, Lab, Copper, Estate, Duchy], [Gold, Smithy, Silver, Village, Province, NoCard, Lab, Estate, Copper, Duchy], [Gold, Silver, Smithy, Village, Province, NoCard, Lab, Estate, Copper, Duchy], [Gold, Province, Silver, Village, Smithy, NoCard, Lab, Estate, Copper, Duchy], [Gold, Province, Silver, Village, Smithy, NoCard, Lab, Estate, Copper, Duchy], [Gold, Province, Silver, Village, Smithy, Lab, NoCard, Estate, Copper, Duchy], [Province, Gold, Silver, Village, Smithy, Lab, Estate, NoCard, Copper, Duchy], [Province, Gold, Silver, Village, Smithy, Lab, Estate, NoCard, Copper, Duchy], [Province, Gold, Silver, Village, Smithy, Lab, Estate, NoCard, Copper, Duchy], [Province, Gold, Silver, Village, Smithy, Lab, Estate, NoCard, Copper, Duchy], [Province, Gold, Silver, Village, Lab, Smithy, Estate, NoCard, Copper, Duchy], [Province, Gold, Silver, Village, Lab, Estate, Smithy, NoCard, Copper, Duchy], [Province, Gold, Lab, Silver, Estate, Village, Smithy, NoCard, Copper, Duchy], [Province, Gold, Estate, Lab, Silver, Village, Smithy, NoCard, Copper, Duchy], [Province, Estate, Gold, Lab, Silver, Village, Smithy, NoCard, Copper, Duchy], [Province, Estate, Lab, Gold, Silver, Village, Smithy, NoCard, Copper, Duchy], [Province, Estate, Lab, Gold, Silver, Village, Smithy, NoCard, Copper, Duchy], [Province, Estate, Lab, Gold, Silver, Village, Smithy, NoCard, Copper, Duchy], [Province, Estate, Lab, Gold, Silver, Village, Smithy, NoCard, Copper, Duchy]]\n"
     ]
    },
    {
     "ename": "NameError",
     "evalue": "name 't' is not defined",
     "output_type": "error",
     "traceback": [
      "\u001B[1;31m---------------------------------------------------------------------------\u001B[0m",
      "\u001B[1;31mNameError\u001B[0m                                 Traceback (most recent call last)",
      "Cell \u001B[1;32mIn[2], line 6\u001B[0m\n\u001B[0;32m      3\u001B[0m t5\u001B[38;5;241m.\u001B[39mrun_tournament(\u001B[38;5;241m10_000\u001B[39m,\u001B[38;5;241m20\u001B[39m,\u001B[38;5;241m1_000_000\u001B[39m)\n\u001B[0;32m      4\u001B[0m \u001B[38;5;28mprint\u001B[39m(t5\u001B[38;5;241m.\u001B[39mall_strategies[\u001B[38;5;241m0\u001B[39m]\u001B[38;5;241m.\u001B[39mprio_buys)\n\u001B[1;32m----> 6\u001B[0m pickle_safe(\u001B[43mt\u001B[49m\u001B[38;5;241m.\u001B[39mall_strategies[\u001B[38;5;241m0\u001B[39m]\u001B[38;5;241m.\u001B[39mweights, \u001B[38;5;124m'\u001B[39m\u001B[38;5;124mLin_100strats_10kep_15gps_PLUS_10kep_20gps_ag\u001B[39m\u001B[38;5;124m'\u001B[39m)\n\u001B[0;32m      7\u001B[0m \u001B[38;5;66;03m# t5.print_buy_history()\u001B[39;00m\n",
      "\u001B[1;31mNameError\u001B[0m: name 't' is not defined"
     ]
    }
   ],
   "source": [
    "ws = pickle_load('Lin_100strats_10kep_15gps')\n",
    "t5 = GATournament(LinearGA, all_strats=100, weights=ws)\n",
    "t5.run_tournament(10_000,20,1_000_000)\n",
    "print(t5.all_strategies[0].prio_buys)\n",
    "\n",
    "pickle_safe(t.all_strategies[0].weights, 'Lin_100strats_10kep_15gps_PLUS_10kep_20gps_ag')\n",
    "# t5.print_buy_history()"
   ],
   "metadata": {
    "collapsed": false
   }
  },
  {
   "cell_type": "code",
   "execution_count": 3,
   "outputs": [],
   "source": [
    "pickle_safe(t5.all_strategies[0].weights, 'Lin_100strats_10kep_15gps_PLUS_10kep_20gps_ag')"
   ],
   "metadata": {
    "collapsed": false
   }
  },
  {
   "cell_type": "code",
   "execution_count": 4,
   "outputs": [
    {
     "name": "stderr",
     "output_type": "stream",
     "text": [
      "100%|██████████| 1000/1000 [10:13<00:00,  1.63it/s]\n",
      "100%|██████████| 1000/1000 [20:05<00:00,  1.21s/it]\n",
      "100%|██████████| 1000/1000 [28:21<00:00,  1.70s/it]\n",
      "100%|██████████| 100/100 [00:00<00:00, 1601.17it/s]\n",
      "100%|██████████| 100/100 [00:00<00:00, 1600.41it/s]\n",
      "100%|██████████| 100/100 [00:00<00:00, 1600.24it/s]\n",
      "100%|██████████| 100/100 [00:00<00:00, 2134.65it/s]\n",
      "100%|██████████| 100/100 [00:00<00:00, 3201.00it/s]"
     ]
    },
    {
     "name": "stdout",
     "output_type": "stream",
     "text": [
      "Best strat on avg: 38.22\n"
     ]
    },
    {
     "name": "stderr",
     "output_type": "stream",
     "text": [
      "\n"
     ]
    }
   ],
   "source": [
    "t6 = GATournament(StaticGA, all_strats=100)\n",
    "t6.run_tournament(epochs=3000,gps=15,gps_last_epoch=1_00)"
   ],
   "metadata": {
    "collapsed": false
   }
  },
  {
   "cell_type": "code",
   "execution_count": 7,
   "outputs": [
    {
     "name": "stderr",
     "output_type": "stream",
     "text": [
      "100%|██████████| 1000000/1000000 [05:45<00:00, 2897.37it/s]\n",
      "100%|██████████| 1000000/1000000 [05:58<00:00, 2789.27it/s]\n",
      "100%|██████████| 1000000/1000000 [06:10<00:00, 2702.47it/s]\n",
      "100%|██████████| 1000000/1000000 [06:14<00:00, 2668.93it/s]\n",
      "100%|██████████| 1000000/1000000 [06:17<00:00, 2650.74it/s]"
     ]
    },
    {
     "name": "stdout",
     "output_type": "stream",
     "text": [
      "Best strat on avg: 37.668834\n"
     ]
    },
    {
     "name": "stderr",
     "output_type": "stream",
     "text": [
      "\n"
     ]
    }
   ],
   "source": [
    "t6.last_epoch(1_000_000)"
   ],
   "metadata": {
    "collapsed": false
   }
  },
  {
   "cell_type": "code",
   "execution_count": 3,
   "outputs": [
    {
     "name": "stderr",
     "output_type": "stream",
     "text": [
      "100%|██████████| 1000000/1000000 [04:10<00:00, 3984.67it/s]"
     ]
    },
    {
     "name": "stdout",
     "output_type": "stream",
     "text": [
      "Avg: 33.773442\n",
      "Turn 1\n",
      "Province 0   Duchy 0   Estate 0   Gold 0   Silver 916575   Copper 0   Lab 0   Smithy 0   Village 0   NoCard 0   \n",
      "Turn 2\n",
      "Province 0   Duchy 0   Estate 0   Gold 0   Silver 916598   Copper 0   Lab 0   Smithy 0   Village 0   NoCard 0   \n",
      "Turn 3\n",
      "Province 0   Duchy 0   Estate 0   Gold 189862   Silver 780781   Copper 0   Lab 0   Smithy 0   Village 0   NoCard 0   \n",
      "Turn 4\n",
      "Province 0   Duchy 0   Estate 0   Gold 189412   Silver 780736   Copper 0   Lab 0   Smithy 0   Village 0   NoCard 0   \n",
      "Turn 5\n",
      "Province 37125   Duchy 0   Estate 0   Gold 361079   Silver 586419   Copper 0   Lab 0   Smithy 0   Village 0   NoCard 0   \n",
      "Turn 6\n",
      "Province 91155   Duchy 0   Estate 0   Gold 413008   Silver 485846   Copper 0   Lab 0   Smithy 0   Village 0   NoCard 0   \n",
      "Turn 7\n",
      "Province 127413   Duchy 0   Estate 0   Gold 432532   Silver 429348   Copper 0   Lab 0   Smithy 0   Village 0   NoCard 0   \n",
      "Turn 8\n",
      "Province 244338   Duchy 0   Estate 0   Gold 434977   Silver 314674   Copper 0   Lab 0   Smithy 0   Village 0   NoCard 0   \n",
      "Turn 9\n",
      "Province 246860   Duchy 0   Estate 0   Gold 432793   Silver 314360   Copper 0   Lab 0   Smithy 0   Village 0   NoCard 0   \n",
      "Turn 10\n",
      "Province 340876   Duchy 0   Estate 0   Gold 392442   Silver 258041   Copper 0   Lab 0   Smithy 0   Village 0   NoCard 0   \n",
      "Turn 11\n",
      "Province 354233   Duchy 0   Estate 0   Gold 390251   Silver 247802   Copper 0   Lab 0   Smithy 0   Village 0   NoCard 0   \n",
      "Turn 12\n",
      "Province 355619   Duchy 0   Estate 0   Gold 389207   Silver 247201   Copper 0   Lab 0   Smithy 0   Village 0   NoCard 0   \n",
      "Turn 13\n",
      "Province 376052   Duchy 0   Estate 0   Gold 371025   Silver 242381   Copper 0   Lab 0   Smithy 0   Village 0   NoCard 0   \n",
      "Turn 14\n",
      "Province 410825   Duchy 0   Estate 0   Gold 356758   Silver 222323   Copper 0   Lab 0   Smithy 0   Village 0   NoCard 0   \n",
      "Turn 15\n",
      "Province 410476   Duchy 0   Estate 0   Gold 357319   Silver 222157   Copper 0   Lab 0   Smithy 0   Village 0   NoCard 0   \n",
      "Turn 16\n",
      "Province 410995   Duchy 0   Estate 0   Gold 357061   Silver 221808   Copper 0   Lab 0   Smithy 0   Village 0   NoCard 0   \n",
      "Turn 17\n",
      "Province 428340   Duchy 0   Estate 0   Gold 331747   Silver 224018   Copper 0   Lab 0   Smithy 0   Village 0   NoCard 0   \n",
      "Turn 18\n",
      "Province 431293   Duchy 0   Estate 0   Gold 331728   Silver 221870   Copper 0   Lab 0   Smithy 0   Village 0   NoCard 0   \n",
      "Turn 19\n",
      "Province 432089   Duchy 0   Estate 0   Gold 331541   Silver 221373   Copper 0   Lab 0   Smithy 0   Village 0   NoCard 0   \n",
      "Turn 20\n",
      "Province 431218   Duchy 0   Estate 0   Gold 331734   Silver 221923   Copper 0   Lab 0   Smithy 0   Village 0   NoCard 0   \n"
     ]
    },
    {
     "name": "stderr",
     "output_type": "stream",
     "text": [
      "\n"
     ]
    }
   ],
   "source": [
    "tc = CustomTournament()\n",
    "tc.last_episode(1_000_000)\n",
    "tc.print_buy_history()"
   ],
   "metadata": {
    "collapsed": false
   }
  },
  {
   "cell_type": "code",
   "execution_count": null,
   "outputs": [],
   "source": [],
   "metadata": {
    "collapsed": false
   }
  }
 ],
 "metadata": {
  "kernelspec": {
   "display_name": "Python 3",
   "language": "python",
   "name": "python3"
  },
  "language_info": {
   "codemirror_mode": {
    "name": "ipython",
    "version": 2
   },
   "file_extension": ".py",
   "mimetype": "text/x-python",
   "name": "python",
   "nbconvert_exporter": "python",
   "pygments_lexer": "ipython2",
   "version": "2.7.6"
  }
 },
 "nbformat": 4,
 "nbformat_minor": 0
}
