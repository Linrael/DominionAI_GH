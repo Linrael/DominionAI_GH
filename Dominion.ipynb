{
 "cells": [
  {
   "cell_type": "code",
   "execution_count": null,
   "metadata": {
    "collapsed": true
   },
   "outputs": [],
   "source": [
    "from Strats import *\n",
    "\n",
    "\n",
    "class Player:\n",
    "    def __init__(self, name, strategy):\n",
    "        self.name = name\n",
    "        self.strategy = strategy\n",
    "        self.deck = [Copper]*7 + [Estate]*3\n",
    "        random.shuffle(self.deck)\n",
    "        self.hand = []\n",
    "        self.discardP = []\n",
    "\n",
    "    def draw(self, n=5):\n",
    "        length_deck = len(self.deck)\n",
    "        if length_deck < n:\n",
    "            [self.hand.append(self.deck.pop()) for _ in range(length_deck)]\n",
    "            [self.deck.append(self.discardP.pop()) for _ in range(len(self.discardP))]\n",
    "            random.shuffle(self.deck)\n",
    "            [self.hand.append(self.deck.pop()) for _ in range(n - length_deck)]\n",
    "        else:\n",
    "            [self.hand.append(self.deck.pop()) for _ in range(n)]\n",
    "\n",
    "    def buy_card(self, card):\n",
    "        if card.name != NoCard.name:\n",
    "            self.discardP.append(card)\n",
    "\n",
    "    # def buy_strategy(self, strategy):\n",
    "    #     money = 0\n",
    "    #     for i in range(self.hand):\n",
    "    #         money += self.hand[i].coins\n",
    "    #\n",
    "    # def buy_bigMoney(self):\n",
    "    #     money = 0\n",
    "    #     for i in range(5):\n",
    "    #         money += self.hand[i].coins\n",
    "    #     if money >= Province.cost:\n",
    "    #         self.discardP.append(Province)\n",
    "    #     elif money >= Gold.cost:\n",
    "    #         self.discardP.append(Gold)\n",
    "    #     elif money >= Silver.cost:\n",
    "    #         self.discardP.append(Silver)\n",
    "\n",
    "    def discard_hand(self):\n",
    "        [self.discardP.append(self.hand.pop()) for _ in range(len(self.hand))]\n",
    "\n",
    "    def calc_vp(self):\n",
    "        vp = 0\n",
    "        for i in range(len(self.deck)):\n",
    "            vp += self.deck[i].vp\n",
    "        for i in range(len(self.hand)):\n",
    "            vp += self.hand[i].vp\n",
    "        for i in range(len(self.discardP)):\n",
    "            vp += self.discardP[i].vp\n",
    "\n",
    "\n",
    "\n",
    "st = SimpleGA()\n",
    "print(st.buyable)\n",
    "print(st.prio_buys)\n",
    "\n",
    "\n",
    "\n",
    "class GameState:\n",
    "    def __init__(self, player, max_rounds=20):\n",
    "        self.player = player\n",
    "        self.max_rounds = max_rounds\n",
    "        # self.remainingProvinces = 8\n",
    "\n",
    "    def play_game(self):\n",
    "        for _ in range(self.max_rounds):\n",
    "            self.player.draw()"
   ]
  },
  {
   "cell_type": "code",
   "execution_count": null,
   "outputs": [],
   "source": [],
   "metadata": {
    "collapsed": false
   }
  }
 ],
 "metadata": {
  "kernelspec": {
   "display_name": "Python 3",
   "language": "python",
   "name": "python3"
  },
  "language_info": {
   "codemirror_mode": {
    "name": "ipython",
    "version": 2
   },
   "file_extension": ".py",
   "mimetype": "text/x-python",
   "name": "python",
   "nbconvert_exporter": "python",
   "pygments_lexer": "ipython2",
   "version": "2.7.6"
  }
 },
 "nbformat": 4,
 "nbformat_minor": 0
}
